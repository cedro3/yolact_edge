{
  "nbformat": 4,
  "nbformat_minor": 0,
  "metadata": {
    "accelerator": "GPU",
    "colab": {
      "name": "YolactEdge_demo",
      "provenance": [],
      "collapsed_sections": [],
      "include_colab_link": true
    },
    "kernelspec": {
      "display_name": "Python 3",
      "name": "python3"
    }
  },
  "cells": [
    {
      "cell_type": "markdown",
      "metadata": {
        "id": "view-in-github",
        "colab_type": "text"
      },
      "source": [
        "<a href=\"https://colab.research.google.com/github/cedro3/yolact_edge/blob/master/YolactEdge_demo.ipynb\" target=\"_parent\"><img src=\"https://colab.research.google.com/assets/colab-badge.svg\" alt=\"Open In Colab\"/></a>"
      ]
    },
    {
      "cell_type": "markdown",
      "metadata": {
        "id": "sPSX2B9oImsQ"
      },
      "source": [
        "# セットアップ"
      ]
    },
    {
      "cell_type": "code",
      "metadata": {
        "id": "Jpmc_BiNI98H"
      },
      "source": [
        "# GPUの仕様チェック\n",
        "!nvidia-smi -L\n",
        "\n",
        "# Githubからコードをコピー\n",
        "!git clone https://github.com/cedro3/yolact_edge.git\n",
        "!git clone https://github.com/chentinghao/download_google_drive.git\n",
        "%cd yolact_edge\n",
        "!mkdir -p weights\n",
        "\n",
        "# 重みとCOCOデータのダウンロード\n",
        "! pip install --upgrade gdown\n",
        "!python ../download_google_drive/download_gdrive.py 1EAzO-vRDZ2hupUJ4JFSUi40lAZ5Jo-Bp ./weights/yolact_edge_54_800000.pth\n",
        "!python ../download_google_drive/download_gdrive.py 15jyd5CRJxNiA41UMjGbaSnmaytfeILfI ./calib_images_coco.zip\n",
        "!unzip -q calib_images_coco.zip\n",
        "\n",
        "# ライブラリーのインポート\n",
        "import cv2\n",
        "from google.colab.patches import cv2_imshow\n",
        "from IPython.display import HTML\n",
        "from base64 import b64encode"
      ],
      "execution_count": null,
      "outputs": []
    },
    {
      "cell_type": "markdown",
      "metadata": {
        "id": "vQAvPUT8ERZy"
      },
      "source": [
        "# 静止画を物体検出"
      ]
    },
    {
      "cell_type": "code",
      "metadata": {
        "id": "yAMFFmoR-8Fg"
      },
      "source": [
        "# サンプル画像を表示\n",
        "im = cv2.imread(\"./pic/sample.jpg\")\n",
        "cv2_imshow(im)"
      ],
      "execution_count": null,
      "outputs": []
    },
    {
      "cell_type": "code",
      "metadata": {
        "id": "CEZofSQs6Xla"
      },
      "source": [
        "# 静止画から物体検出\n",
        "!python eval.py --trained_model=weights/yolact_edge_54_800000.pth\\\n",
        "                --score_threshold=0.15 --top_k=100\\\n",
        "                --image=pic/sample.jpg:output_img.jpg\\\n",
        "                --disable_tensorrt"
      ],
      "execution_count": null,
      "outputs": []
    },
    {
      "cell_type": "code",
      "metadata": {
        "id": "a3yFOtD47L6L"
      },
      "source": [
        "# 検出画像を表示\n",
        "im = cv2.imread(\"./output_img.jpg\")\n",
        "cv2_imshow(im)"
      ],
      "execution_count": null,
      "outputs": []
    },
    {
      "cell_type": "markdown",
      "metadata": {
        "id": "r8pEwVbxEa_l"
      },
      "source": [
        "# ビデオから物体検出"
      ]
    },
    {
      "cell_type": "code",
      "metadata": {
        "id": "W8PzqilL9he9"
      },
      "source": [
        "# サンプルビデオの確認\n",
        "mp4 = open('./video/sample.mp4', 'rb').read()\n",
        "data_url = 'data:video/mp4;base64,' + b64encode(mp4).decode()\n",
        "HTML(f\"\"\"\n",
        "<video width=\"80%\" height=\"80%\" controls>\n",
        "      <source src=\"{data_url}\" type=\"video/mp4\">\n",
        "</video>\"\"\")"
      ],
      "execution_count": null,
      "outputs": []
    },
    {
      "cell_type": "code",
      "metadata": {
        "id": "MDcglWko3m_y"
      },
      "source": [
        "# ビデオから物体検出し、mp4動画を作成する\n",
        "!python eval.py --trained_model=weights/yolact_edge_54_800000.pth\\\n",
        "                --score_threshold=0.15 --top_k=100\\\n",
        "                --video=video/sample.mp4:output_video.mp4\\\n",
        "                --disable_tensorrt\n",
        "\n",
        "# コーデック変換\n",
        "import os\n",
        "import shutil \n",
        "if os.path.exists('./output.mp4'):\n",
        "   os.remove('./output.mp4')\n",
        "! ffmpeg -i output_video.mp4 -vcodec h264 -pix_fmt yuv420p output.mp4"
      ],
      "execution_count": null,
      "outputs": []
    },
    {
      "cell_type": "code",
      "metadata": {
        "id": "TdhyQlKo7zBS"
      },
      "source": [
        "# mp4動画の再生\n",
        "mp4 = open('./output.mp4', 'rb').read()\n",
        "data_url = 'data:video/mp4;base64,' + b64encode(mp4).decode()\n",
        "HTML(f\"\"\"\n",
        "<video width=\"80%\" height=\"80%\" controls>\n",
        "      <source src=\"{data_url}\" type=\"video/mp4\">\n",
        "</video>\"\"\")"
      ],
      "execution_count": null,
      "outputs": []
    }
  ]
}
